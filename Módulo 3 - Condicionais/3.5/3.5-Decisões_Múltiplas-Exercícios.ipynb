{
 "cells": [
  {
   "cell_type": "markdown",
   "id": "559687a1",
   "metadata": {},
   "source": [
    "# Módulo 3 - Condicionais\n",
    "\n",
    "## 3.5 - Decisões Múltiplas"
   ]
  },
  {
   "cell_type": "markdown",
   "id": "42f823b3",
   "metadata": {},
   "source": [
    "### Q1.\n",
    "\n",
    "Vamos fazer uma calculadora! Escreva um programa que solicita 3 entradas: o primeiro operando (float), o operador (caracter) e o segundo operando (float). Seu programa deve imprimir o resultado da operação solicitada, entre soma (+), subtração (-), divisão (/), multiplicação (\\*) ou potência (\\*\\*). Seu programa também deve imprimir uma mensagem de erro se a operação solicitada não estiver dentre as opções disponíveis.\n",
    "\n",
    "Seguem alguns exemplos de interação com seu código no terminal. \n",
    "\n",
    "\n",
    "```\n",
    "Digite o primeiro operando: 5.2\n",
    "Digite o operador (+, -, /, *, **): *\n",
    "Digite o segundo operando` 3\n",
    "Resultado: 5.2 * 3.0 = 15.6\n",
    "```\n",
    "\n",
    "```\n",
    "Digite o primeiro operando: 8\n",
    "Digite o operador (+, -, /, *, **): **\n",
    "Digite o segundo operando: 2\n",
    "Resultado: 8.0 * 2.0 = 64.0\n",
    "```\n",
    "\n",
    "```\n",
    "Digite o primeiro operando: 7\n",
    "Digite o operador (+, -, /, *, **): %\n",
    "Digite o segundo operando: 3.4\n",
    "Erro! Operação inválida. \n",
    "```\n",
    "\n",
    "```\n",
    "Digite o primeiro operando: 10\n",
    "Digite o operador (+, -, /, *, **): /\n",
    "Digite o segundo operando: 2.5\n",
    "Resultado: 10.0 / 2.5 = 4.0\n",
    "```\n",
    "\n"
   ]
  },
  {
   "cell_type": "code",
   "execution_count": 3,
   "id": "c5b8cd4d",
   "metadata": {},
   "outputs": [
    {
     "name": "stdin",
     "output_type": "stream",
     "text": [
      "Digite o primeiro operando:  9\n",
      "Digite o operador (+, -, /, *, **):  +\n",
      "Digite o segundo operando:  5\n"
     ]
    },
    {
     "name": "stdout",
     "output_type": "stream",
     "text": [
      "9.0 + 5.0 = 14.0\n"
     ]
    }
   ],
   "source": [
    "## Escreva e execute seu código aqui\n",
    "\n",
    "# Entrada de Dados: É solicitado o operador, o primeiro e o segundo operando.\n",
    "x = float(input(\"Digite o primeiro operando: \"))\n",
    "operador = input(\"Digite o operador (+, -, /, *, **): \")\n",
    "y = float(input(\"Digite o segundo operando: \"))\n",
    "\n",
    "# Processamento / Saída de Dados: Dependo do operador digitado, é executada uma operação diferente que é imprimida na tela.\n",
    "# Caso o segundo operando seja negativo, ele é colocado entre parênteses.\n",
    "# Caso o operador seja o da divisão, e o segundo operando seja 0, é exibida uma mensagem  dizendo que isso é impossível.\n",
    "# Caso o operador não seja nenhum dos que foram listados é imprimida uma mensagem dizendo que a operação é inválida.\n",
    "\n",
    "if operador == \"+\":\n",
    "    if y < 0: print(f\"{x} + ({y}) = {x + y}\")\n",
    "    else: print(f\"{x} + {y} = {x + y}\")\n",
    "\n",
    "elif operador == \"-\":\n",
    "    if y < 0: print(f\"{x} - ({y}) = {x - y}\")\n",
    "    else: print(f\"{x} - {y} = {x - y}\")\n",
    "\n",
    "elif operador == \"/\":\n",
    "    if y == 0: print(f\"Não é possível dividir {x} por 0\")\n",
    "    elif y < 0: print(f\"{x} / ({y}) = {x / y}\")\n",
    "    else: print(f\"{x} / {y} = {x / y}\")\n",
    "\n",
    "elif operador == \"*\":\n",
    "    if y < 0: print(f\"{x} * ({y}) = {x * y}\")\n",
    "    else: print(f\"{x} * {y} = {x * y}\")\n",
    "\n",
    "elif operador == \"**\":\n",
    "    if y < 0: print(f\"{x} ** ({y}) = {x ** y}\")\n",
    "    else: print(f\"{x} ** {y} = {x ** y}\")\n",
    "\n",
    "else:\n",
    "    print(\"A operação solicitada é inválida!\")"
   ]
  },
  {
   "cell_type": "markdown",
   "id": "d135df39",
   "metadata": {},
   "source": [
    "### Q2.\n",
    "\n",
    "Escreva um programa que leia os comprimentos dos 3 lados de um triângulo e diga se o triângulo é equilátero, isóceles ou escaleno. Regras:\n",
    "- Isóceles: Quaisquer dois lados com o mesmo comprimento\n",
    "- Equilátero: Os três lados tem o mesmo comprimento\n",
    "- Escaleno: Três lados de comprimento diferente \n",
    "\n",
    "Note que a ordem das condições importa! Seguem alguns exemplos de interação com seu código no terminal. \n",
    "\n",
    "```\n",
    "Digite o comprimento do lado 1: 4\n",
    "Digite o comprimento do lado 2: 4\n",
    "Digite o comprimento do lado 3: 6\n",
    "Triângulo: Isóceles\n",
    "```\n",
    "\n",
    "```\n",
    "Digite o comprimento do lado 1: 5\n",
    "Digite o comprimento do lado 2: 5\n",
    "Digite o comprimento do lado 3: 5\n",
    "Triângulo: Equilátero\n",
    "```\n",
    "\n",
    "```\n",
    "Digite o comprimento do lado 1: 7\n",
    "Digite o comprimento do lado 2: 4\n",
    "Digite o comprimento do lado 3: 9\n",
    "Triângulo: Escaleno\n",
    "```\n",
    "\n"
   ]
  },
  {
   "cell_type": "code",
   "execution_count": 7,
   "id": "cfcf9a80",
   "metadata": {},
   "outputs": [
    {
     "name": "stdin",
     "output_type": "stream",
     "text": [
      "Digite o comprimento do lado 1:  3\n",
      "Digite o comprimento do lado 2:  7\n",
      "Digite o comprimento do lado 3:  9\n"
     ]
    },
    {
     "name": "stdout",
     "output_type": "stream",
     "text": [
      "Triângulo: Escaleno\n"
     ]
    }
   ],
   "source": [
    "## Escreva e execute seu código aqui\n",
    "\n",
    "# Entrada de Dados: Comprimento dos lados 1, 2 e 3 do triângulo\n",
    "s1 = float(input(\"Digite o comprimento do lado 1: \"))\n",
    "s2 = float(input(\"Digite o comprimento do lado 2: \"))\n",
    "s3 = float(input(\"Digite o comprimento do lado 3: \"))\n",
    "triangle = \"Triângulo\"\n",
    "\n",
    "# Processamento: É testado se o triânlo tem 2 lados iguais e outro diferente, ou se \n",
    "# tem os três lados iguais ou se tem os três lados diferentes\n",
    "if (s1 == s2 and s3 != s1) or (s2 == s3 and s1 != s2) or (s1 == s3 and s2 != s3):\n",
    "    triangle = \"Isóceles\"\n",
    "\n",
    "elif s1 == s2 and s2 == s3: \n",
    "    triangle = \"Equilátero\"\n",
    "\n",
    "elif s1 != s2 and s2 != s3 and s3 != s1:\n",
    "    triangle  = \"Escaleno\"\n",
    "\n",
    "# Saída de Dados: O tipo de triângulo de acordo com a razão entre o comprimento de seus lados\n",
    "print(f\"Triângulo: {triangle}\")\n"
   ]
  },
  {
   "cell_type": "markdown",
   "id": "ed3405fb",
   "metadata": {},
   "source": [
    "### Q3.\n",
    "\n",
    "Você está desenvolvendo um sistema de avaliação de desempenho para um jogo. Escreva um programa em Python que avalia a pontuação do jogador em uma missão e atribui uma classificação com base nas seguintes condições:\n",
    "\n",
    "- Se a pontuação for menor que 70, atribua a classificação \"Insatisfatório\".\n",
    "- Se a pontuação for maior ou igual a 70, atribua a classificação \"Regular\".\n",
    "- Se a pontuação for maior ou igual a 80, atribua a classificação \"Bom\".\n",
    "- Se a pontuação for maior ou igual a 90, atribua a classificação \"Excelente\".\n",
    "\n",
    "Escreva um programa que solicita ao usuário a pontuação e imprime a classificação correspondente."
   ]
  },
  {
   "cell_type": "code",
   "execution_count": 15,
   "id": "a7a842ae",
   "metadata": {},
   "outputs": [
    {
     "name": "stdin",
     "output_type": "stream",
     "text": [
      "Digite a sua pontuação:  87\n"
     ]
    },
    {
     "name": "stdout",
     "output_type": "stream",
     "text": [
      "Classificação: Bom\n"
     ]
    }
   ],
   "source": [
    "## Escreva e execute seu código aqui\n",
    "\n",
    "# Entrada de Dados: Pontuação do usuário\n",
    "score = int(input(\"Digite a sua pontuação: \"))\n",
    "evaluation = \"Classificação\"\n",
    "\n",
    "# Processamento: \n",
    "    # Se a pontuação for menor que 70, avaliação é \"Insatisfatório\"\n",
    "    # Se a pontuação for entre 70 e 80, avaliação é \"Regular\"\n",
    "    # Se a pontuação for entre 80 e 90, avaliação é \"Bom\"\n",
    "    #Se a pontuação for maior que 90; avaliação é  \"Excelente\"\n",
    "\n",
    "if score < 70:\n",
    "    evaluation = \"Insatisfatório\"\n",
    "\n",
    "elif score >= 70 and score < 80:\n",
    "    evaluation = \"Regular\"\n",
    "\n",
    "elif score >= 80 and score < 90:\n",
    "    evaluation = \"Bom\"\n",
    "\n",
    "elif score >= 90:\n",
    "    evaluation = \"Excelente\"\n",
    "\n",
    "#Saída de Dados: é imprimida a avaliação\n",
    "print(f\"Classificação: {evaluation}\")"
   ]
  },
  {
   "cell_type": "markdown",
   "id": "6cafaa50",
   "metadata": {},
   "source": [
    "### Q4.\n",
    "\n",
    "Você está implementando um sistema de desconto em uma loja online. Escreva um programa em Python que calcula o desconto com base no valor total da compra e atribui diferentes níveis de desconto de acordo com as seguintes condições:\n",
    "\n",
    "- Se o valor total da compra for menor que R\\$ 50, não há desconto.\n",
    "- Se o valor total da compra for maior ou igual a R\\$ 50, atribua um desconto de 10%.\n",
    "- Se o valor total da compra for maior ou igual a R\\$ 100, atribua um desconto de 20%.\n",
    "\n",
    "\n",
    "Seguem alguns exemplos de interação com seu código no terminal. Preste atenção na formatação esperada para as saídas.\n",
    "\n",
    "```\n",
    "Digite o valor total da compra: 120\n",
    "Desconto aplicado: 20.0%\n",
    "Valor final com desconto: R$96.00\n",
    "```\n",
    "\n",
    "```\n",
    "Digite o valor total da compra: 65\n",
    "Desconto aplicado: 10.0%\n",
    "Valor final com desconto: R$58.50\n",
    "```\n",
    "\n",
    "```\n",
    "Digite o valor total da compra: 40\n",
    "Desconto aplicado: 0.0%\n",
    "Valor final com desconto: R$40.00\n",
    "```\n",
    "\n",
    "\n"
   ]
  },
  {
   "cell_type": "code",
   "execution_count": 20,
   "id": "3b1b1929",
   "metadata": {},
   "outputs": [
    {
     "name": "stdin",
     "output_type": "stream",
     "text": [
      "Digite o valor total da compra:  789.79\n"
     ]
    },
    {
     "name": "stdout",
     "output_type": "stream",
     "text": [
      "Desconto aplicado 20.0%\n",
      "Valor final com desconto R$631.83\n"
     ]
    }
   ],
   "source": [
    "## Escreva e execute seu código aqui\n",
    "\n",
    "# Entrada de Dados: Valor do Produto\n",
    "price = float(input(\"Digite o valor total da compra: \"))\n",
    "\n",
    "# Processamento: \n",
    "    # Se o valor total da compra for menor que R$ 50, não há desconto.\n",
    "    # Se o valor total da compra for maior ou igual a R$ 50, atribua um desconto de 10%.\n",
    "    # Se o valor total da compra for maior ou igual a R$ 100, atribua um desconto de 20%\n",
    "\n",
    "if price >= 100:\n",
    "    print(\"Desconto aplicado 20.0%\")\n",
    "    price *= 0.8\n",
    "\n",
    "elif price >= 50 and price < 100:\n",
    "    print (\"Desconto aplicado 10.0%\")\n",
    "    price *= 0.9\n",
    "\n",
    "else:\n",
    "    print(\"Desconto aplicado 0.0%\")\n",
    "\n",
    "# Saída de Dados: Valor com desconto\n",
    "print(f\"Valor final com desconto R${price:,.2f}\")"
   ]
  },
  {
   "cell_type": "markdown",
   "id": "dc5db6d7",
   "metadata": {},
   "source": [
    "### Q5.\n",
    "\n",
    "Você está projetando um sistema de autenticação baseado na análise da íris (parte colorida do olho). Ao acionado, o sistema coleta e retorna 3 valores inteiros referentes a atributos da íris visível. Mas o sistema não é perfeito, tendo uma margem de erro do sensor de +/- $5$. \n",
    "\n",
    "O código abaixo tem os atributos dos 4 usuários cadastrados no sistema. Você deve completar om código, pedindo ao usuário para inserir uma nova leitura de padrão de íris. O programa deve comparar o padrão inserido com os padrões cadastrados no banco de dados. Se o padrão estiver dentro da tolerância estabelecida, o usuário é autenticado com sucesso. Caso contrário, a autenticação falha.\n",
    "\n",
    "**Dica:** A função do python ```abs()``` retorna o valor absoluto de um elemento. Ex: \n",
    "```\n",
    ">>> print(abs(987-982))\n",
    "5\n",
    ">>> print(abs(987-992))\n",
    "5\n",
    "```\n",
    "\n",
    "Seguem alguns exemplos de interação com seu código no terminal.\n",
    "\n",
    "```\n",
    "Insira o padrão de íris para autenticação.\n",
    "Atributo 1: 111\n",
    "Atributo 2: 222\n",
    "Atributo 3: 333\n",
    "Autenticação bem-sucedida! \n",
    "Usuário: 3\n",
    "```\n",
    "\n",
    "```\n",
    "Insira o padrão de íris para autenticação.\n",
    "Atributo 1: 111\n",
    "Atributo 2: 200\n",
    "Atributo 3: 333\n",
    "Autenticação falhou! \n",
    "```\n",
    "\n",
    "```\n",
    "Insira o padrão de íris para autenticação.\n",
    "Atributo 1: 982\n",
    "Atributo 2: 653\n",
    "Atributo 3: 324\n",
    "Autenticação bem-sucedida! \n",
    "Usuário: 2\n",
    "```"
   ]
  },
  {
   "cell_type": "code",
   "execution_count": 32,
   "id": "b90304eb",
   "metadata": {},
   "outputs": [
    {
     "name": "stdout",
     "output_type": "stream",
     "text": [
      "Insira o padrão de íris para autenticação.\n"
     ]
    },
    {
     "name": "stdin",
     "output_type": "stream",
     "text": [
      "Atributo 1:  111\n",
      "Atributo 2:  222\n",
      "Atributo 3:  433\n"
     ]
    },
    {
     "name": "stdout",
     "output_type": "stream",
     "text": [
      "Autentificação falhou!\n"
     ]
    }
   ],
   "source": [
    "## Não altere os atributos definidos a seguir\n",
    "iris1_a1, iris1_a2, iris1_a3 = 123, 456, 789\n",
    "iris2_a1, iris2_a2, iris2_a3 = 987, 654, 321\n",
    "iris3_a1, iris3_a2, iris3_a3 = 111, 222, 333\n",
    "iris4_a1, iris4_a2, iris4_a3 = 444, 555, 666\n",
    "\n",
    "## Escreva e execute seu código aqui\n",
    "\n",
    "# Entrada de Dados: Atributos 1, 2 e 3 da íris\n",
    "print(\"Insira o padrão de íris para autenticação.\")\n",
    "iris0_a1 = int(input(\"Atributo 1: \"))\n",
    "iris0_a2 = int(input(\"Atributo 2: \"))\n",
    "iris0_a3 = int(input(\"Atributo 3: \"))\n",
    "user = 0\n",
    "\n",
    "# Processamento: É testado se a subtração absoluta dos três atributos é igual o menor que cinco para algun dos três usuários\n",
    "# Saída de Dados: Se a autentifiacação foi bem sucedida  ou não e o número do usuário\n",
    "if (abs(iris1_a1 - iris0_a1) <= 5) and (abs(iris1_a2 - iris0_a2) <= 5) and (abs(iris1_a3 - iris0_a3) <= 5):\n",
    "    user = 1\n",
    "    print(\"Autentificação bem-sucedida!\")\n",
    "    print(f\"Usuário: {user}\")\n",
    "\n",
    "elif (abs(iris2_a1 - iris0_a1) <= 5) and (abs(iris2_a2 - iris0_a2) <= 5) and (abs(iris2_a3 - iris0_a3) <= 5):\n",
    "    user = 2\n",
    "    print(\"Autentificação bem-sucedida!\")\n",
    "    print(f\"Usuário: {user}\")\n",
    "\n",
    "elif (abs(iris3_a1 - iris0_a1) <= 5) and (abs(iris3_a2 - iris0_a2) <= 5) and (abs(iris3_a3 - iris0_a3) <= 5):\n",
    "    user = 3\n",
    "    print(\"Autentificação bem-sucedida!\")\n",
    "    print(f\"Usuário: {user}\")\n",
    "\n",
    "elif (abs(iris4_a1 - iris0_a1) <= 5) and (abs(iris4_a2 - iris0_a2) <= 5) and (abs(iris4_a3 - iris0_a3) <= 5):\n",
    "    user = 4\n",
    "    print(\"Autentificação bem-sucedida!\")\n",
    "    print(f\"Usuário: {user}\")\n",
    "\n",
    "else:\n",
    "    print(\"Autentificação falhou!\")"
   ]
  },
  {
   "cell_type": "code",
   "execution_count": null,
   "id": "6c31aeb5-c8b5-4367-8262-081e70aaf6a5",
   "metadata": {},
   "outputs": [],
   "source": []
  }
 ],
 "metadata": {
  "kernelspec": {
   "display_name": "Python 3 (ipykernel)",
   "language": "python",
   "name": "python3"
  },
  "language_info": {
   "codemirror_mode": {
    "name": "ipython",
    "version": 3
   },
   "file_extension": ".py",
   "mimetype": "text/x-python",
   "name": "python",
   "nbconvert_exporter": "python",
   "pygments_lexer": "ipython3",
   "version": "3.11.6"
  }
 },
 "nbformat": 4,
 "nbformat_minor": 5
}
