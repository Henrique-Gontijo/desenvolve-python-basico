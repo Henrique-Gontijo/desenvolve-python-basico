{
 "cells": [
  {
   "cell_type": "markdown",
   "metadata": {
    "id": "1pCTdOHonv5f"
   },
   "source": [
    "# Módulo 2\n",
    "\n",
    "## 2.3 Instruções e Expressões\n",
    "\n",
    "### Q1\n",
    "\n",
    "Faça um programa que armazene o valor de 20 reais de salário por hora de um trabalhador, e o número de 40 horas trabalhadas na semana. Com essas informações, calcule e imprima:\n",
    "- Salário semanal bruto\n",
    "- Valor descontado por semana INSS (10% do bruto)\n",
    "- Valor descontado por semana pelo sindicato (5% do bruto)\n",
    "- Salário semanal líquido (Bruto - Descontos)"
   ]
  },
  {
   "cell_type": "code",
   "execution_count": 1,
   "metadata": {
    "id": "hVbX0I97nj6M"
   },
   "outputs": [
    {
     "name": "stdout",
     "output_type": "stream",
     "text": [
      "Salário por hora é 20 reais\n",
      "Carga de trabalho é 40 horas\n",
      "Salário semanal bruto é 800 reais\n",
      "INSS = 80.0 reais\n",
      "Sindicato = 40.0 reais\n",
      "Salário semanal líquido é 680.0 reais\n"
     ]
    }
   ],
   "source": [
    "## Escreva e execute seu código aqui\n",
    "salario_hora = 20\n",
    "carga_horaria = 40\n",
    "print(\"Salário por hora é\", salario_hora, \"reais\")\n",
    "print(\"Carga de trabalho é\", carga_horaria, \"horas\")\n",
    "salario_semana = salario_hora * carga_horaria\n",
    "print(\"Salário semanal bruto é\", salario_semana, \"reais\")\n",
    "INSS = salario_semana * 0.10\n",
    "print(\"INSS =\", INSS, \"reais\")\n",
    "sindicato = salario_semana * 0.05\n",
    "print(\"Sindicato =\", sindicato, \"reais\")\n",
    "salario_semana = salario_semana - (INSS + sindicato)\n",
    "print(\"Salário semanal líquido é\", salario_semana, \"reais\")\n"
   ]
  },
  {
   "cell_type": "markdown",
   "metadata": {
    "id": "pIxKX9J2oGZ1"
   },
   "source": [
    "### Q2\n",
    "\n",
    "Altere o programa anterior para a partir dos valores de horas trabalhadas por semana e salário por hora, calcular **em somente duas instruções**:\n",
    "- Salário semanal bruto\n",
    "- Salário semanal líquido com todos os descontos. Para a segunda instrução, realize todos os cálculos aritméticos em uma expressão composta.\n"
   ]
  },
  {
   "cell_type": "code",
   "execution_count": 2,
   "metadata": {
    "id": "pAHw9Xf9oGoi"
   },
   "outputs": [
    {
     "name": "stdout",
     "output_type": "stream",
     "text": [
      "Salário semanal bruto é 800 reais\n",
      "Salário semanal líquido é 680.0 reais\n"
     ]
    }
   ],
   "source": [
    "## Escreva e execute seu código aqui\n",
    "salario = 20\n",
    "carga_horaria = 40\n",
    "salario_bruto = salario * carga_horaria\n",
    "salario_liquido = salario_bruto - ( ( salario_bruto * 0.10 ) + ( salario_bruto * 0.05 ) )\n",
    "print(\"Salário semanal bruto é\", salario_bruto, \"reais\")\n",
    "print(\"Salário semanal líquido é\", salario_liquido, \"reais\")"
   ]
  },
  {
   "cell_type": "markdown",
   "metadata": {
    "id": "m8tlHRuWpBOB"
   },
   "source": [
    "### Q3\n",
    "\n",
    "Você está desenvolvendo um software de conversão de moeda e precisa calcular o valor equivalente em yuan chinês a partir de uma quantia em real. A taxa de câmbio é de 0.69 BRL (real) para 1 CNY (yuan). Escreva um programa que define em uma variável uma quantia em reais (BRL) e calcula o valor equivalente em yuan (CNY). Imprima o resultado."
   ]
  },
  {
   "cell_type": "code",
   "execution_count": 4,
   "metadata": {
    "id": "2bPw7uF6oeL9"
   },
   "outputs": [
    {
     "name": "stdout",
     "output_type": "stream",
     "text": [
      "Valor em real é 500 reais\n",
      "Valor em Yuan é 345.0 reais\n"
     ]
    }
   ],
   "source": [
    "## Escreva e execute seu código aqui\n",
    "v_real = 500\n",
    "cambio = 0.69\n",
    "v_yuan = v_real * cambio\n",
    "print(\"Valor em real é\", v_real, \"reais\")\n",
    "print(\"Valor em Yuan é\", v_yuan, \"reais\")"
   ]
  },
  {
   "cell_type": "markdown",
   "metadata": {
    "id": "-Na3ltDCp74A"
   },
   "source": [
    "### Q4\n",
    "\n",
    "Você é um treinador de corrida e deseja calcular a velocidade média que um atleta precisa manter para completar a Maratona Internacional de São Silvestre, que tem uma distância total de 42.195 km. A fórmula para calcular a velocidade média ($v\\_media$) é dada por $v\\_media = \\frac{distancia}{tempo}$ . Escreva um programa em Python para calcular a velocidade média necessária para completar a maratona em 3 horas.\n",
    "\n",
    "**Calcule e imprima o resultado em metros/segundo**, ou seja, converta a distância de quilômetros para metros ($metro = \\frac{km}{1000}$) e a velocidade de horas para segundos $(segundo = \\frac{hora}{3600})$."
   ]
  },
  {
   "cell_type": "code",
   "execution_count": 3,
   "metadata": {
    "id": "Bn6l8kcSrE4L"
   },
   "outputs": [
    {
     "name": "stdout",
     "output_type": "stream",
     "text": [
      "50.634\n"
     ]
    }
   ],
   "source": [
    "## Escreva e execute seu código aqui\n",
    "distancia = 42.195/1000\n",
    "tempo = 3/3600\n",
    "v_media = distancia/tempo\n",
    "print (v_media)\n"
   ]
  },
  {
   "cell_type": "code",
   "execution_count": null,
   "metadata": {},
   "outputs": [],
   "source": []
  }
 ],
 "metadata": {
  "colab": {
   "provenance": []
  },
  "kernelspec": {
   "display_name": "Python 3 (ipykernel)",
   "language": "python",
   "name": "python3"
  },
  "language_info": {
   "codemirror_mode": {
    "name": "ipython",
    "version": 3
   },
   "file_extension": ".py",
   "mimetype": "text/x-python",
   "name": "python",
   "nbconvert_exporter": "python",
   "pygments_lexer": "ipython3",
   "version": "3.11.6"
  }
 },
 "nbformat": 4,
 "nbformat_minor": 4
}
